{
  "nbformat": 4,
  "nbformat_minor": 0,
  "metadata": {
    "colab": {
      "provenance": [],
      "authorship_tag": "ABX9TyMGmadsn3qa/aprL7vdvn4i",
      "include_colab_link": true
    },
    "kernelspec": {
      "name": "python3",
      "display_name": "Python 3"
    },
    "language_info": {
      "name": "python"
    }
  },
  "cells": [
    {
      "cell_type": "markdown",
      "metadata": {
        "id": "view-in-github",
        "colab_type": "text"
      },
      "source": [
        "<a href=\"https://colab.research.google.com/github/norhaneng/TASK1.ipynb/blob/main/Task1.ipynb\" target=\"_parent\"><img src=\"https://colab.research.google.com/assets/colab-badge.svg\" alt=\"Open In Colab\"/></a>"
      ]
    },
    {
      "cell_type": "code",
      "execution_count": 2,
      "metadata": {
        "id": "PbYPsnOCHGE9"
      },
      "outputs": [],
      "source": [
        "import pandas as pd\n",
        "import matplotlib.pyplot as plt\n",
        "import os\n",
        "import seaborn as sns\n",
        "import numpy as np"
      ]
    },
    {
      "cell_type": "code",
      "source": [
        "df = pd.read_csv('/content/population.csv')\n",
        "print(df.head())\n",
        "df.columns"
      ],
      "metadata": {
        "colab": {
          "base_uri": "https://localhost:8080/"
        },
        "id": "iDLaVvP7HJH2",
        "outputId": "cd12bd75-f6bf-4747-ceb6-e48daadfdfb4"
      },
      "execution_count": 3,
      "outputs": [
        {
          "output_type": "stream",
          "name": "stdout",
          "text": [
            "                  Country Name Country Code     Indicator Name Indicator Code  \\\n",
            "0                        Aruba          ABW  Population, total    SP.POP.TOTL   \n",
            "1  Africa Eastern and Southern          AFE  Population, total    SP.POP.TOTL   \n",
            "2                  Afghanistan          AFG  Population, total    SP.POP.TOTL   \n",
            "3   Africa Western and Central          AFW  Population, total    SP.POP.TOTL   \n",
            "4                       Angola          AGO  Population, total    SP.POP.TOTL   \n",
            "\n",
            "          1960         1961         1962         1963         1964  \\\n",
            "0      54608.0      55811.0      56682.0      57475.0      58178.0   \n",
            "1  130692579.0  134169237.0  137835590.0  141630546.0  145605995.0   \n",
            "2    8622466.0    8790140.0    8969047.0    9157465.0    9355514.0   \n",
            "3   97256290.0   99314028.0  101445032.0  103667517.0  105959979.0   \n",
            "4    5357195.0    5441333.0    5521400.0    5599827.0    5673199.0   \n",
            "\n",
            "          1965  ...         2013         2014         2015         2016  \\\n",
            "0      58782.0  ...     102880.0     103594.0     104257.0     104874.0   \n",
            "1  149742351.0  ...  567892149.0  583651101.0  600008424.0  616377605.0   \n",
            "2    9565147.0  ...   31541209.0   32716210.0   33753499.0   34636207.0   \n",
            "3  108336203.0  ...  387204553.0  397855507.0  408690375.0  419778384.0   \n",
            "4    5736582.0  ...   26147002.0   27128337.0   28127721.0   29154746.0   \n",
            "\n",
            "          2017         2018         2019         2020         2021  \\\n",
            "0     105439.0     105962.0     106442.0     106585.0     106537.0   \n",
            "1  632746570.0  649757148.0  667242986.0  685112979.0  702977106.0   \n",
            "2   35643418.0   36686784.0   37769499.0   38972230.0   40099462.0   \n",
            "3  431138704.0  442646825.0  454306063.0  466189102.0  478185907.0   \n",
            "4   30208628.0   31273533.0   32353588.0   33428486.0   34503774.0   \n",
            "\n",
            "          2022  \n",
            "0     106445.0  \n",
            "1  720859132.0  \n",
            "2   41128771.0  \n",
            "3  490330870.0  \n",
            "4   35588987.0  \n",
            "\n",
            "[5 rows x 67 columns]\n"
          ]
        },
        {
          "output_type": "execute_result",
          "data": {
            "text/plain": [
              "Index(['Country Name', 'Country Code', 'Indicator Name', 'Indicator Code',\n",
              "       '1960', '1961', '1962', '1963', '1964', '1965', '1966', '1967', '1968',\n",
              "       '1969', '1970', '1971', '1972', '1973', '1974', '1975', '1976', '1977',\n",
              "       '1978', '1979', '1980', '1981', '1982', '1983', '1984', '1985', '1986',\n",
              "       '1987', '1988', '1989', '1990', '1991', '1992', '1993', '1994', '1995',\n",
              "       '1996', '1997', '1998', '1999', '2000', '2001', '2002', '2003', '2004',\n",
              "       '2005', '2006', '2007', '2008', '2009', '2010', '2011', '2012', '2013',\n",
              "       '2014', '2015', '2016', '2017', '2018', '2019', '2020', '2021', '2022'],\n",
              "      dtype='object')"
            ]
          },
          "metadata": {},
          "execution_count": 3
        }
      ]
    },
    {
      "cell_type": "code",
      "source": [
        "df.drop(['Country Name'], axis=1 ,inplace=True)\n",
        "df = df.drop_duplicates()"
      ],
      "metadata": {
        "id": "Wez85I1vHJFD"
      },
      "execution_count": 4,
      "outputs": []
    },
    {
      "cell_type": "code",
      "source": [
        "df.isna().sum()"
      ],
      "metadata": {
        "colab": {
          "base_uri": "https://localhost:8080/",
          "height": 458
        },
        "id": "oeE9S5l0HJB4",
        "outputId": "318c8a34-4043-40b7-fc2e-ca9b15ef465f"
      },
      "execution_count": 5,
      "outputs": [
        {
          "output_type": "execute_result",
          "data": {
            "text/plain": [
              "Country Code      0\n",
              "Indicator Name    0\n",
              "Indicator Code    0\n",
              "1960              2\n",
              "1961              2\n",
              "                 ..\n",
              "2018              1\n",
              "2019              1\n",
              "2020              1\n",
              "2021              1\n",
              "2022              1\n",
              "Length: 66, dtype: int64"
            ],
            "text/html": [
              "<div>\n",
              "<style scoped>\n",
              "    .dataframe tbody tr th:only-of-type {\n",
              "        vertical-align: middle;\n",
              "    }\n",
              "\n",
              "    .dataframe tbody tr th {\n",
              "        vertical-align: top;\n",
              "    }\n",
              "\n",
              "    .dataframe thead th {\n",
              "        text-align: right;\n",
              "    }\n",
              "</style>\n",
              "<table border=\"1\" class=\"dataframe\">\n",
              "  <thead>\n",
              "    <tr style=\"text-align: right;\">\n",
              "      <th></th>\n",
              "      <th>0</th>\n",
              "    </tr>\n",
              "  </thead>\n",
              "  <tbody>\n",
              "    <tr>\n",
              "      <th>Country Code</th>\n",
              "      <td>0</td>\n",
              "    </tr>\n",
              "    <tr>\n",
              "      <th>Indicator Name</th>\n",
              "      <td>0</td>\n",
              "    </tr>\n",
              "    <tr>\n",
              "      <th>Indicator Code</th>\n",
              "      <td>0</td>\n",
              "    </tr>\n",
              "    <tr>\n",
              "      <th>1960</th>\n",
              "      <td>2</td>\n",
              "    </tr>\n",
              "    <tr>\n",
              "      <th>1961</th>\n",
              "      <td>2</td>\n",
              "    </tr>\n",
              "    <tr>\n",
              "      <th>...</th>\n",
              "      <td>...</td>\n",
              "    </tr>\n",
              "    <tr>\n",
              "      <th>2018</th>\n",
              "      <td>1</td>\n",
              "    </tr>\n",
              "    <tr>\n",
              "      <th>2019</th>\n",
              "      <td>1</td>\n",
              "    </tr>\n",
              "    <tr>\n",
              "      <th>2020</th>\n",
              "      <td>1</td>\n",
              "    </tr>\n",
              "    <tr>\n",
              "      <th>2021</th>\n",
              "      <td>1</td>\n",
              "    </tr>\n",
              "    <tr>\n",
              "      <th>2022</th>\n",
              "      <td>1</td>\n",
              "    </tr>\n",
              "  </tbody>\n",
              "</table>\n",
              "<p>66 rows × 1 columns</p>\n",
              "</div><br><label><b>dtype:</b> int64</label>"
            ]
          },
          "metadata": {},
          "execution_count": 5
        }
      ]
    },
    {
      "cell_type": "markdown",
      "source": [
        "Bar\n"
      ],
      "metadata": {
        "id": "undZeybMIgcc"
      }
    },
    {
      "cell_type": "code",
      "source": [
        "Country_Code =df['Country Code'].tail(10)\n",
        "\n",
        "bar_width = 0.5\n",
        "index = np.arange(len(Country_Code))\n",
        "\n",
        "# Plotting the data\n",
        "fig, ax = plt.subplots()\n",
        "\n",
        "bar1 = ax.bar(index, df['1960'].head(10), bar_width, label='y1960', color='black')\n",
        "bar2 = ax.bar(index + bar_width, df['2022'].head(10), bar_width, label='y2022', color='blue')\n",
        "\n",
        "# # Labels and title\n",
        "ax.set_xlabel('Country Code')\n",
        "ax.set_ylabel('Population')\n",
        "ax.set_title('Population Distribution over 1960 and 2022')\n",
        "ax.set_xticks(index + bar_width / 2)\n",
        "ax.set_xticklabels(Country_Code)\n",
        "ax.legend()\n",
        "\n",
        "# Display the plot\n",
        "\n",
        "plt.tight_layout()\n",
        "plt.show()"
      ],
      "metadata": {
        "colab": {
          "base_uri": "https://localhost:8080/",
          "height": 487
        },
        "id": "aS0FOnrvHI_J",
        "outputId": "d285e799-df2d-4738-f398-f97efa4b6792"
      },
      "execution_count": 6,
      "outputs": [
        {
          "output_type": "display_data",
          "data": {
            "text/plain": [
              "<Figure size 640x480 with 1 Axes>"
            ],
            "image/png": "[encoded data removed]"
          },
          "metadata": {}
        }
      ]
    },
    {
      "cell_type": "markdown",
      "source": [
        "Histogram\n"
      ],
      "metadata": {
        "id": "NGBBysTTIiye"
      }
    },
    {
      "cell_type": "code",
      "source": [
        "# Filter data for a specific country\n",
        "country_code = 'USA'\n",
        "indicator_name = 'SP.POP.TOTL'\n",
        "\n",
        "# Filter the data\n",
        "filtered_data = df[(df['Country Code'] == country_code)]\n",
        "\n",
        "# Extract years and values for the histogram\n",
        "years = [str(year) for year in range(1960, 2023)]  # Column names for years 1960-2022\n",
        "values = filtered_data[years].values.flatten()  # Flatten to get the list of values\n",
        "\n",
        "# Drop any missing values (optional)\n",
        "values = values[~pd.isnull(values)]\n",
        "\n",
        "# Plot the histogram\n",
        "plt.figure(figsize=(10, 6))\n",
        "plt.hist(values, bins=10, color='gray', edgecolor='black')\n",
        "plt.title(f'Distribution of {indicator_name} in {country_code} (1960-2022)')\n",
        "plt.xlabel(indicator_name)\n",
        "plt.ylabel('Frequency')\n",
        "plt.show()\n"
      ],
      "metadata": {
        "colab": {
          "base_uri": "https://localhost:8080/",
          "height": 564
        },
        "id": "Z2twaDMcHI8K",
        "outputId": "4ce08881-9af8-4924-d898-01c2646e85c1"
      },
      "execution_count": 13,
      "outputs": [
        {
          "output_type": "display_data",
          "data": {
            "text/plain": [
              "<Figure size 1000x600 with 1 Axes>"
            ],
            "image/png": "[encoded data removed]"
          },
          "metadata": {}
        }
      ]
    },
    {
      "cell_type": "code",
      "source": [],
      "metadata": {
        "id": "2VMduSJrHI27"
      },
      "execution_count": 7,
      "outputs": []
    },
    {
      "cell_type": "code",
      "source": [],
      "metadata": {
        "id": "KSzSkPHPHIz7"
      },
      "execution_count": 7,
      "outputs": []
    }
  ]
}